{
 "cells": [
  {
   "cell_type": "markdown",
   "metadata": {},
   "source": [
    "## O(n^2) algorithms (selection, bubble, insertion)\n",
    "\n",
    "    I. Count the number of comparisons (selection vs bubble vs insertion)\n",
    "        (1) Best case comparison (pre sorted sequences)\n",
    "        (2) Worst case comparison (reverse sorted sequences)\n",
    "        (3) Average case comparison (random numbers)"
   ]
  },
  {
   "cell_type": "markdown",
   "metadata": {},
   "source": [
    "### Selection Sort"
   ]
  },
  {
   "cell_type": "code",
   "execution_count": 7,
   "metadata": {},
   "outputs": [
    {
     "name": "stdout",
     "output_type": "stream",
     "text": [
      "Average Case: 45 [1, 2, 3, 4, 5, 6, 7, 8, 9, 10]\n",
      "Best Case: 45 [1, 2, 3, 4, 5, 6, 7, 8, 9, 10]\n",
      "Worst Case:  45 [1, 2, 3, 4, 5, 6, 7, 8, 9, 10]\n",
      "Test Case:  190 [3, 4, 10, 11, 12, 15, 19, 20, 23, 25, 27, 27, 29, 34, 41, 41, 44, 45, 47, 48]\n"
     ]
    }
   ],
   "source": [
    "best_case_ = [1,2,3,4,5,6,7,8,9,10];\n",
    "worst_case_ = [10,9,8,7,6,5,4,3,2,1];\n",
    "average_case_ = [5,4,9,10,8,6,2,1,3,7];\n",
    "selection = [10,48,29,47,15,3,41,11,19,4,27,27,23,12,45,44,34,25,41,20]\n",
    "def selection_sort(collection):\n",
    "    counter = 0;\n",
    "    length = len(collection)\n",
    "    for i in range(length):\n",
    "        least = i\n",
    "        for k in range(i + 1, length):\n",
    "            counter += 1\n",
    "            if collection[k] < collection[least]:\n",
    "                least = k\n",
    "        collection[least], collection[i] = (\n",
    "            collection[i], collection[least]\n",
    "        )\n",
    "    return counter, collection\n",
    "print(\"Average Case: %s %s\" % selection_sort(average_case_))\n",
    "print(\"Best Case: %s %s\" % selection_sort(best_case_))\n",
    "print(\"Worst Case:  %s %s\" % selection_sort(worst_case_)) \n",
    "print(\"Test Case:  %s %s\" % selection_sort(selection)) "
   ]
  },
  {
   "cell_type": "markdown",
   "metadata": {},
   "source": [
    "### Insertion Sort"
   ]
  },
  {
   "cell_type": "code",
   "execution_count": 1,
   "metadata": {},
   "outputs": [
    {
     "data": {
      "text/plain": [
       "9"
      ]
     },
     "execution_count": 1,
     "metadata": {},
     "output_type": "execute_result"
    }
   ],
   "source": [
    "best_case1 = [1,2,3,4,5,6,7,8,9,10];\n",
    "worst_case1 = [10,9,8,7,6,5,4,3,2,1];\n",
    "average_case1 = [5,4,9,10,8,6,2,1,3,7];\n",
    "selection_ = [10,48,29,47,15,3,41,11,19,4,27,27,23]\n",
    "sample = [4,9,3,2,7]\n",
    "def insertion_sort(array, gap):\n",
    "    comparisons = 0\n",
    "    for i in range(gap, len(array)):\n",
    "        comparisons += 1\n",
    "        val = array[i]\n",
    "        j = i\n",
    "        while j >= gap and array[j - gap] > val:\n",
    "            array[j] = array[j - gap]\n",
    "            j -= gap\n",
    "            comparisons +=1\n",
    "        array[j] = val\n",
    "\n",
    "    return comparisons\n",
    "\n",
    "\n",
    "insertion_sort(best_case1, 1)"
   ]
  },
  {
   "cell_type": "code",
   "execution_count": 58,
   "metadata": {},
   "outputs": [
    {
     "name": "stdout",
     "output_type": "stream",
     "text": [
      "Best Case: 9 [1, 2, 3, 4, 5, 6, 7, 8, 9, 10]\n",
      "Worst Case:  90 [1, 2, 3, 4, 5, 6, 7, 8, 9, 10]\n",
      "Average Case: 72 [1, 2, 3, 4, 5, 6, 7, 8, 9, 10]\n"
     ]
    }
   ],
   "source": [
    "best_case2 = [1,2,3,4,5,6,7,8,9,10];\n",
    "worst_case2 = [10,9,8,7,6,5,4,3,2,1];\n",
    "average_case2 = [5,4,9,10,8,6,2,1,3,7];\n",
    "selection = [10,48,29,47,15,3,41,11,19,4,27,27,23,12,45,44,34,25,41,20]\n",
    "\n",
    "def bubble_sort(data):\n",
    "    count = 0\n",
    "    while True:\n",
    "        swapped = False\n",
    "        for i in range(1, len(data)):\n",
    "            count += 1\n",
    "            if data[i-1] > data[i]:\n",
    "                data[i-1], data[i] = data[i], data[i-1]\n",
    "                swapped = True\n",
    "        if not swapped:\n",
    "            break\n",
    "    return count, data\n",
    "\n",
    "print(\"Best Case: %s %s\" % bubble_sort(best_case2))\n",
    "print(\"Worst Case:  %s %s\" % bubble_sort(worst_case2))\n",
    "print(\"Average Case: %s %s\" % bubble_sort(average_case2))"
   ]
  },
  {
   "cell_type": "markdown",
   "metadata": {},
   "source": [
    "## Shell sort optimization \n",
    "\n",
    "    I. Insertion sort VS shell sort with insertion sort as subroutine\n",
    "        (1) on pre sorted sequences\n",
    "        (2) reverse sorted sequnces\n",
    "        (3) random numbers\n",
    "    \n",
    "    II. Insertion sort using different gaps (random numbers)\n",
    "        (1) Shell's gaps vs. Ciura's gaps"
   ]
  },
  {
   "cell_type": "markdown",
   "metadata": {},
   "source": [
    "### Insertion Sort VS. Shell Insertion Sort"
   ]
  },
  {
   "cell_type": "code",
   "execution_count": 2,
   "metadata": {
    "collapsed": true
   },
   "outputs": [],
   "source": [
    "def test_cases_init():\n",
    "    ranges = [10,20,50,100,150,200,250,300]\n",
    "    presorted = []\n",
    "    reversedsorted = []\n",
    "\n",
    "    for r in ranges:\n",
    "        i = 1\n",
    "        arr = []\n",
    "        while (i <= r):\n",
    "            arr.append(i)\n",
    "            i +=1\n",
    "        presorted.append(arr)\n",
    "        reversedsorted.append(arr[::-1])\n",
    "\n",
    "    return presorted, reversedsorted"
   ]
  },
  {
   "cell_type": "code",
   "execution_count": 9,
   "metadata": {},
   "outputs": [
    {
     "data": {
      "image/png": "[encoded data removed]",
      "text/plain": [
       "<matplotlib.figure.Figure at 0x2995ead0278>"
      ]
     },
     "metadata": {},
     "output_type": "display_data"
    },
    {
     "data": {
      "image/png": "[encoded data removed]",
      "text/plain": [
       "<matplotlib.figure.Figure at 0x2995ead5da0>"
      ]
     },
     "metadata": {},
     "output_type": "display_data"
    }
   ],
   "source": [
    "def shell_vs_insertion_eval():\n",
    "    x_values = [10,20,50,100,150,200,250,300]\n",
    "    # no. of comparisons\n",
    "    shell_y_values = []\n",
    "    insertion_y_values = []\n",
    "\n",
    "    test_cases = test_cases_init()\n",
    "    presorted = test_cases[0]\n",
    "    reversedsorted = test_cases[1]\n",
    "    #random = []\n",
    "\n",
    "    ## REVERSE SORTED SEQUENCES\n",
    "    for case in reversedsorted:\n",
    "        result = insertion_sort(case,1)\n",
    "        insertion_y_values.append(result)\n",
    "\n",
    "    plt.plot(x_values, insertion_y_values)\n",
    "\n",
    "    presorted = test_cases[1]\n",
    "    for case in reversedsorted:\n",
    "        result = shell_sort_shell(case)\n",
    "        shell_y_values.append(result[3])\n",
    "\n",
    "    plt.plot(x_values, shell_y_values)\n",
    "    plt.title(\"Reverse Sorted Sequences\")\n",
    "    plt.legend(['insertion sort','shell sort'], loc='upper left')\n",
    "    plt.show()\n",
    "\n",
    "    ## PRESORTED SEQUENCES\n",
    "    insertion_y_values = []\n",
    "    shell_y_values = []\n",
    "    for case in presorted:\n",
    "        result = insertion_sort(case,1)\n",
    "        insertion_y_values.append(result)\n",
    "\n",
    "    plt.plot(x_values, insertion_y_values)\n",
    "\n",
    "    presorted = test_cases[0]\n",
    "    for case in presorted:\n",
    "        result = shell_sort_shell(case)\n",
    "        shell_y_values.append(result[3])\n",
    "\n",
    "    plt.plot(x_values, shell_y_values)\n",
    "    plt.title(\"Sorted Sequences\")\n",
    "    plt.legend(['insertion sort','shell sort'], loc='upper left')\n",
    "    plt.show()\n",
    "\n",
    "\n",
    "shell_vs_insertion_eval()"
   ]
  },
  {
   "cell_type": "markdown",
   "metadata": {},
   "source": [
    "### Shell Sort (Shell's Gap Sequence)"
   ]
  },
  {
   "cell_type": "code",
   "execution_count": 4,
   "metadata": {
    "collapsed": true
   },
   "outputs": [],
   "source": [
    "def shell_sort_shell(array):\n",
    "    comparisons = []\n",
    "    unsortedness = []\n",
    "    gaps = []\n",
    "\n",
    "    gap = len(array) // 2\n",
    "    commulative_comp = 0;\n",
    "\n",
    "    gaps.append(0)\n",
    "\n",
    "    ## SHELL SORT IMPLEMENTATION (SHELL'S GAP)\n",
    "    # loop over the gaps\n",
    "    while gap > 0:\n",
    "        gaps.append(gap)\n",
    "        unsortedness.append(get_Unsortedness(array))\n",
    "        comparisons.append(commulative_comp)\n",
    "        #print(commulative_comp, get_Unsortedness(array))\n",
    "        commulative_comp += insertion_sort(array, gap)\n",
    "        gap //= 2\n",
    "    \n",
    "    comparisons.append(commulative_comp)\n",
    "    unsortedness.append(0)\n",
    "\n",
    "    return gaps,comparisons,unsortedness,commulative_comp"
   ]
  },
  {
   "cell_type": "markdown",
   "metadata": {},
   "source": [
    "### Shell Sort (Ciura's Gap Sequence)"
   ]
  },
  {
   "cell_type": "code",
   "execution_count": 5,
   "metadata": {
    "collapsed": true
   },
   "outputs": [],
   "source": [
    "def shell_sort_ciura(array):\n",
    "    comparisons = []\n",
    "    unsortedness = []\n",
    "    gaps = [701, 301, 132, 57, 23, 10, 4, 1]\n",
    "\n",
    "    commulative_comp = 0\n",
    "\n",
    "    ## SHELL SORT IMPLEMENTATION (CIURA'S GAP)\n",
    "    # loop over the gaps\n",
    "    for gap in gaps:\n",
    "        unsortedness.append(get_Unsortedness(array))\n",
    "        comparisons.append(commulative_comp)\n",
    "        commulative_comp += insertion_sort(array, gap)\n",
    "\n",
    "    comparisons.append(commulative_comp)\n",
    "    unsortedness.append(0)\n",
    "\n",
    "    return gaps,comparisons,unsortedness"
   ]
  },
  {
   "cell_type": "markdown",
   "metadata": {},
   "source": [
    "### Shell's Gap VS. Ciura's Gap"
   ]
  },
  {
   "cell_type": "code",
   "execution_count": 6,
   "metadata": {
    "collapsed": true
   },
   "outputs": [],
   "source": [
    "def test_case2():\n",
    "    i = 1000\n",
    "    arr = []\n",
    "    while (i > 0):\n",
    "        arr.append(i)\n",
    "        i -=1\n",
    "    \n",
    "    return arr\n",
    "\n",
    "def test_case():\n",
    "    i = 1\n",
    "    arr = []\n",
    "    while (i <= 1000):\n",
    "        arr.append(i)\n",
    "        i +=1\n",
    "    \n",
    "    return arr"
   ]
  },
  {
   "cell_type": "code",
   "execution_count": 7,
   "metadata": {
    "collapsed": true
   },
   "outputs": [],
   "source": [
    "def get_Unsortedness(data):\n",
    "    counter = 0;\n",
    "    comparisons = 0\n",
    "    for index in range(1, len(data)):\n",
    "        counter+=1\n",
    "        while 0 < index and data[index] < data[index - 1]:\n",
    "            counter += 1\n",
    "            index -= 1\n",
    "\n",
    "    return counter"
   ]
  },
  {
   "cell_type": "code",
   "execution_count": 8,
   "metadata": {},
   "outputs": [
    {
     "data": {
      "image/png": "[encoded data removed]",
      "text/plain": [
       "<matplotlib.figure.Figure at 0x2995da343c8>"
      ]
     },
     "metadata": {},
     "output_type": "display_data"
    }
   ],
   "source": [
    "import matplotlib.pyplot as plt\n",
    "def shell_vs_ciura_eval():\n",
    "\n",
    "    shell_result = shell_sort_shell(test_case2())\n",
    "    comparisons_x_shell = shell_result[1]\n",
    "    usortedness_y_shell = shell_result[2]\n",
    "\n",
    "    ciura_result = shell_sort_ciura(test_case2())\n",
    "    comparisons_x_ciura = ciura_result[1]\n",
    "    usortedness_y_ciura = ciura_result[2]\n",
    "\n",
    "\n",
    "    plt.title(\"Shell's Gap vs. Ciura's Gap\")\n",
    "    plt.plot(comparisons_x_shell, usortedness_y_shell)\n",
    "    plt.plot(comparisons_x_ciura, usortedness_y_ciura)\n",
    "    plt.xlabel('Comparisons')\n",
    "    plt.ylabel('Unsortedness')\n",
    "        \n",
    "    plt.legend(['Shell','Ciura'], loc='upper left')\n",
    "    plt.show()\n",
    "\n",
    "shell_vs_ciura_eval()"
   ]
  },
  {
   "cell_type": "markdown",
   "metadata": {},
   "source": [
    "## Bucket sort optimization\n",
    "\n",
    "    I. Bucket sort on different distributions (use insertion sort as subroutine)\n",
    "\n"
   ]
  },
  {
   "cell_type": "code",
   "execution_count": 82,
   "metadata": {},
   "outputs": [
    {
     "name": "stdout",
     "output_type": "stream",
     "text": [
      "0 1 [3, 4]\n",
      "-------------  1\n",
      "0 1 [10, 11, 12]\n",
      "0 1 [10, 11, 12]\n",
      "-------------  2\n",
      "-------------  0\n",
      "0 1 [19, 20]\n",
      "-------------  1\n",
      "0 1 [27, 27, 23, 25]\n",
      "2 3 [23, 27, 27, 25]\n",
      "2 3 [23, 25, 27, 27]\n",
      "-------------  7\n",
      "-------------  0\n",
      "-------------  0\n",
      "0 1 [41, 41]\n",
      "-------------  1\n",
      "1 2 [45, 47, 44]\n",
      "2 3 [44, 45, 47]\n",
      "-------------  5\n",
      "-------------  0\n",
      "Random Case: [3, 4, 10, 11, 12, 15, 19, 20, 23, 25, 27, 27, 29, 34, 41, 41, 44, 45, 47, 48] \n"
     ]
    }
   ],
   "source": [
    "import math\n",
    "selection = [10,48,29,47,15,3,41,11,19,4,27,27,23,12,45,44,34,25,41,20]\n",
    "\n",
    "DEFAULT_BUCKET_SIZE = 5\n",
    "\n",
    "def bucketSort(myList, bucketSize=DEFAULT_BUCKET_SIZE):\n",
    "    if(len(myList) == 0):\n",
    "        print('You don\\'t have any elements in array!')\n",
    "\n",
    "    minValue = myList[0]\n",
    "    maxValue = myList[0]\n",
    "\n",
    "    # For finding minimum and maximum values\n",
    "    for i in range(0, len(myList)):\n",
    "        if myList[i] < minValue:\n",
    "            minValue = myList[i]\n",
    "        elif myList[i] > maxValue:\n",
    "            maxValue = myList[i]\n",
    "\n",
    "    # Initialize buckets\n",
    "    bucketCount = math.floor((maxValue - minValue) / bucketSize) + 1\n",
    "    buckets = []\n",
    "    for i in range(0, bucketCount):\n",
    "        buckets.append([])\n",
    "\n",
    "    # For putting values in buckets\n",
    "    for i in range(0, len(myList)):\n",
    "        buckets[math.floor((myList[i] - minValue) / bucketSize)].append(myList[i])\n",
    "        \n",
    "\n",
    "    # Sort buckets and place back into input array\n",
    "    sortedArray = []\n",
    "    for i in range(0, len(buckets)):\n",
    "        insertion_sort(buckets[i],1)\n",
    "        for j in range(0, len(buckets[i])):\n",
    "            sortedArray.append(buckets[i][j])\n",
    "\n",
    "    for i in buckets.length():\n",
    "            print(\"Random Case: %s \" % bucketSort(selection))\n",
    "    return sortedArray\n",
    "\n",
    "print(\"Random Case: %s \" % bucketSort(selection))"
   ]
  },
  {
   "cell_type": "markdown",
   "metadata": {},
   "source": [
    "## Radix sort optimization\n",
    "\n",
    "    I. Radix sort with counting sort as subroutine vs radix sort with insertion sort\n",
    "        (1) pre sorted\n",
    "        (2) reverse sorted\n",
    "        (3) Random"
   ]
  },
  {
   "cell_type": "markdown",
   "metadata": {},
   "source": [
    "## Merge sort vs Quick Sort\n",
    "\n",
    "    I. Merge sort vs quick sort on random numbers"
   ]
  }
 ],
 "metadata": {
  "kernelspec": {
   "display_name": "Python 3",
   "language": "python",
   "name": "python3"
  },
  "language_info": {
   "codemirror_mode": {
    "name": "ipython",
    "version": 3
   },
   "file_extension": ".py",
   "mimetype": "text/x-python",
   "name": "python",
   "nbconvert_exporter": "python",
   "pygments_lexer": "ipython3",
   "version": "3.6.2"
  }
 },
 "nbformat": 4,
 "nbformat_minor": 2
}
