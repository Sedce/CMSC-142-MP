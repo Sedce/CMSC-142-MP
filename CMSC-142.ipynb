{
 "cells": [
  {
   "cell_type": "markdown",
   "metadata": {},
   "source": [
    "O(n^2) algorithms (selection, bubble, insertion)\n",
    "count the number of comparisons (selection vs bubble vs insertion)\n",
    "\n",
    "Best case comparison (pre sorted sequences)\n",
    "\n",
    "Worst case comparison (reverse sorted sequences)\n",
    "\n",
    "Average case comparison (random numbers)"
   ]
  },
  {
   "cell_type": "code",
   "execution_count": 36,
   "metadata": {},
   "outputs": [
    {
     "name": "stdout",
     "output_type": "stream",
     "text": [
      "Average Case: 9 [1, 2, 3, 4, 5, 6, 7, 8, 9, 10]\n"
     ]
    }
   ],
   "source": [
    "best_case = [1,2,3,4,5,6,7,8,9,10];\n",
    "worst_case = [10,9,8,7,6,5,4,3,2,1];\n",
    "average_case = [5,4,9,10,8,6,2,1,3,7];\n",
    "numOfComp = 0\n",
    "def insertionSort_mod(values):\n",
    "    k = 0\n",
    "    n = len(values) - 1\n",
    "    comparisons = 0\n",
    "    while k+1 <= n:\n",
    "        i = k+1\n",
    "        curr_val = values[i]\n",
    "        comparisons += 1\n",
    "        while i>0 and values[i-1] > curr_val:\n",
    "            values[i] = values[i-1]\n",
    "            i=i-1\n",
    "            comparisons += 1\n",
    "        values[i] = curr_val\n",
    "        k = k + 1\n",
    "    return comparisons, values\n",
    "\n",
    "print(\"Average Case: %s %s\" % (insertionSort_mod(best_case)))\n",
    "\n",
    "#print\"Average Case\", insertionSort_mod(average_case)\n",
    "#print(\"Best Case\" + insertionSort_mod(best_case))\n",
    "#print(\"Worst Case\" + insertionSort_mod(worst_case)) \n"
   ]
  },
  {
   "cell_type": "code",
   "execution_count": null,
   "metadata": {},
   "outputs": [],
   "source": []
  },
  {
   "cell_type": "code",
   "execution_count": null,
   "metadata": {
    "collapsed": true
   },
   "outputs": [],
   "source": []
  },
  {
   "cell_type": "markdown",
   "metadata": {},
   "source": [
    "Shell sort optimization\n",
    "Insertion sort vs shell sort with insertion sort as subroutine\n",
    "\n",
    "on pre sorted sequences\n",
    "\n",
    "reverse sorted sequnces\n",
    "\n",
    "random numbers\n",
    "\n",
    "Insertion sort using different gaps (random numbers)\n",
    "\n",
    "Shell's gaps vs. Ciura's gaps"
   ]
  },
  {
   "cell_type": "markdown",
   "metadata": {},
   "source": [
    "Bucket sort optimization\n",
    "Bucket sort on different distributions (use insertion sort as subroutine)\n",
    "\n"
   ]
  },
  {
   "cell_type": "markdown",
   "metadata": {},
   "source": [
    "Radix sort optimization\n",
    "Radix sort with counting sort as subroutine vs radix sort with insertion sort\n",
    "\n",
    "pre sorted\n",
    "\n",
    "reverse sorted\n",
    "\n",
    "Random"
   ]
  },
  {
   "cell_type": "markdown",
   "metadata": {},
   "source": [
    "Merge sort vs Quick Sort\n",
    "Merge sort vs quick sort on random numbers"
   ]
  }
 ],
 "metadata": {
  "kernelspec": {
   "display_name": "Python 3",
   "language": "python",
   "name": "python3"
  },
  "language_info": {
   "codemirror_mode": {
    "name": "ipython",
    "version": 3
   },
   "file_extension": ".py",
   "mimetype": "text/x-python",
   "name": "python",
   "nbconvert_exporter": "python",
   "pygments_lexer": "ipython3",
   "version": "3.6.3"
  }
 },
 "nbformat": 4,
 "nbformat_minor": 2
}
