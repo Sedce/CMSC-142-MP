{
 "cells": [
  {
   "cell_type": "markdown",
   "metadata": {},
   "source": [
    "O(n^2) algorithms (selection, bubble, insertion)\n",
    "count the number of comparisons (selection vs bubble vs insertion)\n",
    "\n",
    "Best case comparison (pre sorted sequences)\n",
    "\n",
    "Worst case comparison (reverse sorted sequences)\n",
    "\n",
    "Average case comparison (random numbers)"
   ]
  },
  {
   "cell_type": "code",
   "execution_count": 102,
   "metadata": {},
   "outputs": [
    {
     "name": "stdout",
     "output_type": "stream",
     "text": [
      "Average Case: 45 [1, 2, 3, 4, 5, 6, 7, 8, 9, 10]\n",
      "Best Case: 45 [1, 2, 3, 4, 5, 6, 7, 8, 9, 10]\n",
      "Worst Case:  45 [1, 2, 3, 4, 5, 6, 7, 8, 9, 10]\n",
      "Test Case:  190 [3, 4, 10, 11, 12, 15, 19, 20, 23, 25, 27, 27, 29, 34, 41, 41, 44, 45, 47, 48]\n"
     ]
    }
   ],
   "source": [
    "best_case_ = [1,2,3,4,5,6,7,8,9,10];\n",
    "worst_case_ = [10,9,8,7,6,5,4,3,2,1];\n",
    "average_case_ = [5,4,9,10,8,6,2,1,3,7];\n",
    "selection = [10,48,29,47,15,3,41,11,19,4,27,27,23,12,45,44,34,25,41,20]\n",
    "def selection_sort(collection):\n",
    "    counter = 0;\n",
    "    length = len(collection)\n",
    "    for i in range(length):\n",
    "        least = i\n",
    "        for k in range(i + 1, length):\n",
    "            counter += 1\n",
    "            if collection[k] < collection[least]:\n",
    "                least = k\n",
    "        collection[least], collection[i] = (\n",
    "            collection[i], collection[least]\n",
    "        )\n",
    "    return counter,collection\n",
    "print(\"Average Case: %s %s\" % selection_sort(average_case_))\n",
    "print(\"Best Case: %s %s\" % selection_sort(best_case_))\n",
    "print(\"Worst Case:  %s %s\" % selection_sort(worst_case_)) \n",
    "print(\"Test Case:  %s %s\" % selection_sort(selection)) "
   ]
  },
  {
   "cell_type": "code",
   "execution_count": 103,
   "metadata": {},
   "outputs": [
    {
     "name": "stdout",
     "output_type": "stream",
     "text": [
      "Average Case: 28 [1, 2, 3, 4, 5, 6, 7, 8, 9, 10]\n",
      "Best Case: 0 [1, 2, 3, 4, 5, 6, 7, 8, 9, 10]\n",
      "Worst Case:  45 [1, 2, 3, 4, 5, 6, 7, 8, 9, 10]\n",
      "Test Case:  190 [3, 4, 10, 11, 12, 15, 19, 20, 23, 25, 27, 27, 29, 34, 41, 41, 44, 45, 47, 48]\n"
     ]
    }
   ],
   "source": [
    "best_case1 = [1,2,3,4,5,6,7,8,9,10];\n",
    "worst_case1 = [10,9,8,7,6,5,4,3,2,1];\n",
    "average_case1 = [5,4,9,10,8,6,2,1,3,7];\n",
    "selection_ = [10,48,29,47,15,3,41,11,19,4,27,27,23]\n",
    "def insertion_sort(data):\n",
    "    count = 0\n",
    "    for index in range(1, len(data)):\n",
    "        while 0 < index and data[index] < data[index - 1]:\n",
    "            count += 1\n",
    "            data[index], data[\n",
    "                index - 1] = data[index - 1], data[index]\n",
    "            index -= 1\n",
    "\n",
    "    return count, data\n",
    "\n",
    "\n",
    "print(\"Average Case: %s %s\" % insertion_sort(average_case1))\n",
    "print(\"Best Case: %s %s\" % insertion_sort(best_case1))\n",
    "print(\"Worst Case:  %s %s\" % insertion_sort(worst_case1)) \n",
    "print(\"Test Case:  %s %s\" % selection_sort(selection_)) "
   ]
  },
  {
   "cell_type": "code",
   "execution_count": null,
   "metadata": {
    "collapsed": true
   },
   "outputs": [],
   "source": []
  },
  {
   "cell_type": "markdown",
   "metadata": {},
   "source": [
    "Shell sort optimization\n",
    "Insertion sort vs shell sort with insertion sort as subroutine\n",
    "\n",
    "on pre sorted sequences\n",
    "\n",
    "reverse sorted sequnces\n",
    "\n",
    "random numbers\n",
    "\n",
    "Insertion sort using different gaps (random numbers)\n",
    "\n",
    "Shell's gaps vs. Ciura's gaps"
   ]
  },
  {
   "cell_type": "markdown",
   "metadata": {},
   "source": [
    "Bucket sort optimization\n",
    "Bucket sort on different distributions (use insertion sort as subroutine)\n",
    "\n"
   ]
  },
  {
   "cell_type": "markdown",
   "metadata": {},
   "source": [
    "Radix sort optimization\n",
    "Radix sort with counting sort as subroutine vs radix sort with insertion sort\n",
    "\n",
    "pre sorted\n",
    "\n",
    "reverse sorted\n",
    "\n",
    "Random"
   ]
  },
  {
   "cell_type": "markdown",
   "metadata": {},
   "source": [
    "Merge sort vs Quick Sort\n",
    "Merge sort vs quick sort on random numbers"
   ]
  }
 ],
 "metadata": {
  "kernelspec": {
   "display_name": "Python 3",
   "language": "python",
   "name": "python3"
  },
  "language_info": {
   "codemirror_mode": {
    "name": "ipython",
    "version": 3
   },
   "file_extension": ".py",
   "mimetype": "text/x-python",
   "name": "python",
   "nbconvert_exporter": "python",
   "pygments_lexer": "ipython3",
   "version": "3.6.3"
  }
 },
 "nbformat": 4,
 "nbformat_minor": 2
}
