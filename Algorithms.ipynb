{
 "cells": [
  {
   "cell_type": "code",
   "execution_count": null,
   "metadata": {
    "collapsed": true
   },
   "outputs": [],
   "source": [
    "import random\n",
    "import math\n",
    "\n",
    "def selection_sort(collection):\n",
    "    comparisons = 0;\n",
    "    length = len(collection)\n",
    "    for i in range(length):\n",
    "        least = i\n",
    "        for k in range(i + 1, length):\n",
    "            comparisons += 1\n",
    "            if collection[k] < collection[least]:\n",
    "                least = k\n",
    "        collection[least], collection[i] = (\n",
    "            collection[i], collection[least]\n",
    "        )\n",
    "    return counter, collection\n",
    "print(\"Average Case: %s %s\" % selection_sort(average_case_))\n",
    "print(\"Best Case: %s %s\" % selection_sort(best_case_))\n",
    "print(\"Worst Case:  %s %s\" % selection_sort(worst_case_)) \n",
    "print(\"Test Case:  %s %s\" % selection_sort(selection)) \n"
   ]
  },
  {
   "cell_type": "code",
   "execution_count": null,
   "metadata": {
    "collapsed": true
   },
   "outputs": [],
   "source": [
    "def insertion_sort(data, gap):\n",
    "    #count = 0\n",
    "    swaps = 0;\n",
    "    #totalswaps = 0;\n",
    "    totalcomp = 0;\n",
    "    for index in range(gap, len(data)):\n",
    "        count = 0;\n",
    "        #swaps = 0;\n",
    "        while 0 < index and data[index] < data[index - gap]:\n",
    "            count += 1\n",
    "            data[index], data[\n",
    "                index - gap] = data[index - gap], data[index]\n",
    "            swaps += 1\n",
    "            index -= gap\n",
    "        count += 1;\n",
    "        totalcomp += count;\n",
    "        #totalswaps += swaps;\n",
    "        #print ('Swaps: ', swaps)\n",
    "\n",
    "    #print (\"Total Comp: \", totalcomp)\n",
    "    #return totalcomp, swaps, data\n",
    "    #print('Total Swaps -->', totalswaps)\n",
    "    return totalcomp, swaps, data\n"
   ]
  },
  {
   "cell_type": "code",
   "execution_count": null,
   "metadata": {
    "collapsed": true
   },
   "outputs": [],
   "source": [
    "def bubble_sort(data):\n",
    "    count = 0\n",
    "    while True:\n",
    "        swapped = False\n",
    "        for i in range(1, len(data)):\n",
    "            count += 1\n",
    "            if data[i-1] > data[i]:\n",
    "                data[i-1], data[i] = data[i], data[i-1]\n",
    "                swapped = True\n",
    "        if not swapped:\n",
    "            break\n",
    "    return count, data"
   ]
  },
  {
   "cell_type": "code",
   "execution_count": null,
   "metadata": {
    "collapsed": true
   },
   "outputs": [],
   "source": [
    "\n"
   ]
  },
  {
   "cell_type": "code",
   "execution_count": null,
   "metadata": {
    "collapsed": true
   },
   "outputs": [],
   "source": [
    "def get_Unsortedness(data):\n",
    "    counter = 0;\n",
    "    comparisons = 0;\n",
    "    i = 0\n",
    "    for index in range(1, len(data)):\n",
    "        counter+=1\n",
    "        comparisons += 1\n",
    "        #print (index)\n",
    "        while 0 < index and data[index] < data[index - 1]:\n",
    "            counter += 1\n",
    "            index -= 1\n",
    "            #comparisons += 1\n",
    "    \n",
    "    comparisons += 1\n",
    "    return comparisons, counter\n"
   ]
  },
  {
   "cell_type": "code",
   "execution_count": null,
   "metadata": {
    "collapsed": true
   },
   "outputs": [],
   "source": [
    "def shell_sort_v2(array):\n",
    "    count = 0;\n",
    "    gap = len(array) // 2\n",
    "    commulative_comp = 0;\n",
    "    while gap > 0:\n",
    "        #print (\"Shell sort: \", array)\n",
    "        # do the insertion sort\n",
    "        #for i in range(gap, len(array)):\n",
    "        #    count = 0;\n",
    "        #    val = array[i]\n",
    "        #    j = i\n",
    "        #    while j >= gap and array[j - gap] > val:\n",
    "        #        count += 1;\n",
    "        #        array[j] = array[j - gap]\n",
    "        #        j -= gap\n",
    "        #        count += 1\n",
    "        #    array[j] = val\n",
    "        #    count += 1\n",
    "            #numcomp += count\n",
    "        result = insertion_sort(array, gap)\n",
    "        commulative_comp += result[0]\n",
    "        #print(\"Gap\", gap ,\"Comparisons: \", commulative_comp)\n",
    "        gap //= 2\n",
    "        \n",
    "    #return numcomp, array\n",
    "    #print (\"Total Comparisons: \", commulative_comp)\n",
    "    return commulative_comp,array"
   ]
  },
  {
   "cell_type": "code",
   "execution_count": null,
   "metadata": {
    "collapsed": true
   },
   "outputs": [],
   "source": [
    "# Marcin Ciura's gap sequence\n",
    "def shell_sort_v1(collection):\n",
    "    gaps = [701, 301, 132, 57, 23, 10, 4, 1]\n",
    "    count = 0\n",
    "    total_comparisons = 0\n",
    "    for gap in gaps:\n",
    "        i = gap\n",
    "        swaps = 0;\n",
    "        #while i < len(collection):\n",
    "        #    temp = collection[i]\n",
    "        #    j = i\n",
    "        #    while j >= gap and collection[j - gap] > temp:\n",
    "        #        swaps += 1\n",
    "        #        collection[j] = collection[j - gap]\n",
    "        #        j -= gap\n",
    "        #    collection[j] = temp\n",
    "        #    i += 1\n",
    "        result = insertion_sort(collection, gap)\n",
    "        total_comparisons = result[0]\n",
    "        #print(\"Shell Sort: \", collection)\n",
    "        #print (\"Gap: \", gap, \" \",result[0])\n",
    "        #print (swaps)\n",
    "        #print (collection)\n",
    "    #print (\"Total Comparisons: \", total_comparisons)\n",
    "    return total_comparisons, collection\n"
   ]
  },
  {
   "cell_type": "code",
   "execution_count": null,
   "metadata": {
    "collapsed": true
   },
   "outputs": [],
   "source": []
  },
  {
   "cell_type": "code",
   "execution_count": null,
   "metadata": {
    "collapsed": true
   },
   "outputs": [],
   "source": []
  },
  {
   "cell_type": "code",
   "execution_count": null,
   "metadata": {
    "collapsed": true
   },
   "outputs": [],
   "source": [
    "DEFAULT_BUCKET_SIZE = 5\n",
    "\n",
    "def bucketSort(myList, bucketSize=DEFAULT_BUCKET_SIZE):\n",
    "    if(len(myList) == 0):\n",
    "        print('You don\\'t have any elements in array!')\n",
    "\n",
    "    minValue = myList[0]\n",
    "    maxValue = myList[0]\n",
    "\n",
    "    # For finding minimum and maximum values\n",
    "    for i in range(0, len(myList)):\n",
    "        if myList[i] < minValue:\n",
    "            minValue = myList[i]\n",
    "        elif myList[i] > maxValue:\n",
    "            maxValue = myList[i]\n",
    "\n",
    "    # Initialize buckets\n",
    "    bucketCount = math.floor((maxValue - minValue) / bucketSize) + 1\n",
    "    buckets = []\n",
    "    for i in range(0, bucketCount):\n",
    "        buckets.append([])\n",
    "\n",
    "    # For putting values in buckets\n",
    "    for i in range(0, len(myList)):\n",
    "        buckets[math.floor((myList[i] - minValue) / bucketSize)].append(myList[i])\n",
    "        \n",
    "\n",
    "    # Sort buckets and place back into input array\n",
    "    sortedArray = []\n",
    "    for i in range(0, len(buckets)):\n",
    "        insertion_sort(buckets[i],1)\n",
    "        for j in range(0, len(buckets[i])):\n",
    "            sortedArray.append(buckets[i][j])\n",
    "\n",
    "\n",
    "    print(\"Number of buckets %s\", len(buckets))\n",
    "    for i in range(0, len(buckets)):\n",
    "         if buckets[i]:\n",
    "                 print(\"Buckets \", len(buckets[i]), \"First: \", buckets[i][0])\n",
    "        \n",
    "    return sortedArray, buckets\n"
   ]
  },
  {
   "cell_type": "code",
   "execution_count": null,
   "metadata": {
    "collapsed": true
   },
   "outputs": [],
   "source": []
  }
 ],
 "metadata": {
  "kernelspec": {
   "display_name": "Python 3",
   "language": "python",
   "name": "python3"
  },
  "language_info": {
   "codemirror_mode": {
    "name": "ipython",
    "version": 3
   },
   "file_extension": ".py",
   "mimetype": "text/x-python",
   "name": "python",
   "nbconvert_exporter": "python",
   "pygments_lexer": "ipython3",
   "version": "3.6.2"
  }
 },
 "nbformat": 4,
 "nbformat_minor": 2
}
